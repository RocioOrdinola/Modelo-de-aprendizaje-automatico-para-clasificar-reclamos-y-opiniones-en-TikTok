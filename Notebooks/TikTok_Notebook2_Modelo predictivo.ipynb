{
 "cells": [
  {
   "cell_type": "markdown",
   "id": "17b53285",
   "metadata": {
    "id": "17b53285"
   },
   "source": [
    "# Proyecto: Modelo de aprendizaje automático para clasificar reclamos y opiniones en TikTok \n",
    "## Notebook 2: Aplicación de un modelo de aprendizaje automático supervisado"
   ]
  },
  {
   "cell_type": "markdown",
   "id": "5bd013e4",
   "metadata": {
    "id": "5bd013e4"
   },
   "source": [
    "## Objetivo de la notebook:\n",
    "\n",
    "### Ajustar un modelo que permita determinar a partir del dataset de Tik Tok si el tipo de declaración que contiene un video es un reclamo o una opinion.\n"
   ]
  },
  {
   "cell_type": "markdown",
   "id": "738cd880",
   "metadata": {},
   "source": [
    "### Importar y cargar las librerías"
   ]
  },
  {
   "cell_type": "code",
   "execution_count": 1,
   "id": "6af6d5e9",
   "metadata": {
    "executionInfo": {
     "elapsed": 1755,
     "status": "ok",
     "timestamp": 1696947263721,
     "user": {
      "displayName": "Rocío Ordinola",
      "userId": "11095098482500983750"
     },
     "user_tz": 180
    },
    "id": "6af6d5e9"
   },
   "outputs": [],
   "source": [
    "import pandas as pd\n",
    "import numpy as np\n",
    "import matplotlib.pyplot as plt\n",
    "import seaborn as sns\n",
    "import matplotlib.cm as cm"
   ]
  },
  {
   "cell_type": "markdown",
   "id": "cdda9e43",
   "metadata": {
    "id": "cdda9e43"
   },
   "source": [
    "\n",
    "## IMPORTACIÓN DE LOS DATOS\n",
    "### Cargar dataset \n"
   ]
  },
  {
   "cell_type": "code",
   "execution_count": 2,
   "id": "126ed04d",
   "metadata": {
    "colab": {
     "base_uri": "https://localhost:8080/",
     "height": 530
    },
    "executionInfo": {
     "elapsed": 348,
     "status": "ok",
     "timestamp": 1696947364167,
     "user": {
      "displayName": "Rocío Ordinola",
      "userId": "11095098482500983750"
     },
     "user_tz": 180
    },
    "id": "126ed04d",
    "outputId": "e2432a8f-ba5c-4c0a-9f8b-5e4c5bc8a2e3"
   },
   "outputs": [
    {
     "data": {
      "text/html": [
       "<div>\n",
       "<style scoped>\n",
       "    .dataframe tbody tr th:only-of-type {\n",
       "        vertical-align: middle;\n",
       "    }\n",
       "\n",
       "    .dataframe tbody tr th {\n",
       "        vertical-align: top;\n",
       "    }\n",
       "\n",
       "    .dataframe thead th {\n",
       "        text-align: right;\n",
       "    }\n",
       "</style>\n",
       "<table border=\"1\" class=\"dataframe\">\n",
       "  <thead>\n",
       "    <tr style=\"text-align: right;\">\n",
       "      <th></th>\n",
       "      <th>Unnamed: 0</th>\n",
       "      <th>ID</th>\n",
       "      <th>tipo_declaracion</th>\n",
       "      <th>ID_video</th>\n",
       "      <th>duracion_video_seg</th>\n",
       "      <th>transcripcion_video</th>\n",
       "      <th>estado_verificado</th>\n",
       "      <th>estado_bloqueo_autor</th>\n",
       "      <th>vistas_video</th>\n",
       "      <th>likes_video</th>\n",
       "      <th>compartido_video</th>\n",
       "      <th>descargas_video</th>\n",
       "      <th>comentarios_video</th>\n",
       "    </tr>\n",
       "  </thead>\n",
       "  <tbody>\n",
       "    <tr>\n",
       "      <th>0</th>\n",
       "      <td>0</td>\n",
       "      <td>1</td>\n",
       "      <td>claim</td>\n",
       "      <td>7017666017</td>\n",
       "      <td>59</td>\n",
       "      <td>someone shared with me that drone deliveries a...</td>\n",
       "      <td>not verified</td>\n",
       "      <td>under review</td>\n",
       "      <td>343296.0</td>\n",
       "      <td>19425.0</td>\n",
       "      <td>241.0</td>\n",
       "      <td>1.0</td>\n",
       "      <td>0.0</td>\n",
       "    </tr>\n",
       "    <tr>\n",
       "      <th>1</th>\n",
       "      <td>1</td>\n",
       "      <td>2</td>\n",
       "      <td>claim</td>\n",
       "      <td>4014381136</td>\n",
       "      <td>32</td>\n",
       "      <td>someone shared with me that there are more mic...</td>\n",
       "      <td>not verified</td>\n",
       "      <td>active</td>\n",
       "      <td>140877.0</td>\n",
       "      <td>77355.0</td>\n",
       "      <td>19034.0</td>\n",
       "      <td>1161.0</td>\n",
       "      <td>684.0</td>\n",
       "    </tr>\n",
       "    <tr>\n",
       "      <th>2</th>\n",
       "      <td>2</td>\n",
       "      <td>3</td>\n",
       "      <td>claim</td>\n",
       "      <td>9859838091</td>\n",
       "      <td>31</td>\n",
       "      <td>someone shared with me that american industria...</td>\n",
       "      <td>not verified</td>\n",
       "      <td>active</td>\n",
       "      <td>902185.0</td>\n",
       "      <td>97690.0</td>\n",
       "      <td>2858.0</td>\n",
       "      <td>833.0</td>\n",
       "      <td>329.0</td>\n",
       "    </tr>\n",
       "    <tr>\n",
       "      <th>3</th>\n",
       "      <td>3</td>\n",
       "      <td>4</td>\n",
       "      <td>claim</td>\n",
       "      <td>1866847991</td>\n",
       "      <td>25</td>\n",
       "      <td>someone shared with me that the metro of st. p...</td>\n",
       "      <td>not verified</td>\n",
       "      <td>active</td>\n",
       "      <td>437506.0</td>\n",
       "      <td>239954.0</td>\n",
       "      <td>34812.0</td>\n",
       "      <td>1234.0</td>\n",
       "      <td>584.0</td>\n",
       "    </tr>\n",
       "    <tr>\n",
       "      <th>4</th>\n",
       "      <td>4</td>\n",
       "      <td>5</td>\n",
       "      <td>claim</td>\n",
       "      <td>7105231098</td>\n",
       "      <td>19</td>\n",
       "      <td>someone shared with me that the number of busi...</td>\n",
       "      <td>not verified</td>\n",
       "      <td>active</td>\n",
       "      <td>56167.0</td>\n",
       "      <td>34987.0</td>\n",
       "      <td>4110.0</td>\n",
       "      <td>547.0</td>\n",
       "      <td>152.0</td>\n",
       "    </tr>\n",
       "    <tr>\n",
       "      <th>...</th>\n",
       "      <td>...</td>\n",
       "      <td>...</td>\n",
       "      <td>...</td>\n",
       "      <td>...</td>\n",
       "      <td>...</td>\n",
       "      <td>...</td>\n",
       "      <td>...</td>\n",
       "      <td>...</td>\n",
       "      <td>...</td>\n",
       "      <td>...</td>\n",
       "      <td>...</td>\n",
       "      <td>...</td>\n",
       "      <td>...</td>\n",
       "    </tr>\n",
       "    <tr>\n",
       "      <th>19079</th>\n",
       "      <td>19079</td>\n",
       "      <td>19080</td>\n",
       "      <td>opinion</td>\n",
       "      <td>1492320297</td>\n",
       "      <td>49</td>\n",
       "      <td>in our opinion the earth holds about 11 quinti...</td>\n",
       "      <td>not verified</td>\n",
       "      <td>active</td>\n",
       "      <td>6067.0</td>\n",
       "      <td>423.0</td>\n",
       "      <td>81.0</td>\n",
       "      <td>8.0</td>\n",
       "      <td>2.0</td>\n",
       "    </tr>\n",
       "    <tr>\n",
       "      <th>19080</th>\n",
       "      <td>19080</td>\n",
       "      <td>19081</td>\n",
       "      <td>opinion</td>\n",
       "      <td>9841347807</td>\n",
       "      <td>23</td>\n",
       "      <td>in our opinion the queens in ant colonies live...</td>\n",
       "      <td>not verified</td>\n",
       "      <td>active</td>\n",
       "      <td>2973.0</td>\n",
       "      <td>820.0</td>\n",
       "      <td>70.0</td>\n",
       "      <td>3.0</td>\n",
       "      <td>0.0</td>\n",
       "    </tr>\n",
       "    <tr>\n",
       "      <th>19081</th>\n",
       "      <td>19081</td>\n",
       "      <td>19082</td>\n",
       "      <td>opinion</td>\n",
       "      <td>8024379946</td>\n",
       "      <td>50</td>\n",
       "      <td>in our opinion the moon is moving away from th...</td>\n",
       "      <td>not verified</td>\n",
       "      <td>active</td>\n",
       "      <td>734.0</td>\n",
       "      <td>102.0</td>\n",
       "      <td>7.0</td>\n",
       "      <td>2.0</td>\n",
       "      <td>1.0</td>\n",
       "    </tr>\n",
       "    <tr>\n",
       "      <th>19082</th>\n",
       "      <td>19082</td>\n",
       "      <td>19083</td>\n",
       "      <td>opinion</td>\n",
       "      <td>7425795014</td>\n",
       "      <td>8</td>\n",
       "      <td>in our opinion lightning strikes somewhere on ...</td>\n",
       "      <td>not verified</td>\n",
       "      <td>active</td>\n",
       "      <td>3394.0</td>\n",
       "      <td>655.0</td>\n",
       "      <td>123.0</td>\n",
       "      <td>11.0</td>\n",
       "      <td>4.0</td>\n",
       "    </tr>\n",
       "    <tr>\n",
       "      <th>19083</th>\n",
       "      <td>19083</td>\n",
       "      <td>19084</td>\n",
       "      <td>opinion</td>\n",
       "      <td>4094655375</td>\n",
       "      <td>58</td>\n",
       "      <td>in our opinion a pineapple plant can only prod...</td>\n",
       "      <td>not verified</td>\n",
       "      <td>active</td>\n",
       "      <td>5034.0</td>\n",
       "      <td>815.0</td>\n",
       "      <td>281.0</td>\n",
       "      <td>11.0</td>\n",
       "      <td>1.0</td>\n",
       "    </tr>\n",
       "  </tbody>\n",
       "</table>\n",
       "<p>19084 rows × 13 columns</p>\n",
       "</div>"
      ],
      "text/plain": [
       "       Unnamed: 0     ID tipo_declaracion    ID_video  duracion_video_seg  \\\n",
       "0               0      1            claim  7017666017                  59   \n",
       "1               1      2            claim  4014381136                  32   \n",
       "2               2      3            claim  9859838091                  31   \n",
       "3               3      4            claim  1866847991                  25   \n",
       "4               4      5            claim  7105231098                  19   \n",
       "...           ...    ...              ...         ...                 ...   \n",
       "19079       19079  19080          opinion  1492320297                  49   \n",
       "19080       19080  19081          opinion  9841347807                  23   \n",
       "19081       19081  19082          opinion  8024379946                  50   \n",
       "19082       19082  19083          opinion  7425795014                   8   \n",
       "19083       19083  19084          opinion  4094655375                  58   \n",
       "\n",
       "                                     transcripcion_video estado_verificado  \\\n",
       "0      someone shared with me that drone deliveries a...      not verified   \n",
       "1      someone shared with me that there are more mic...      not verified   \n",
       "2      someone shared with me that american industria...      not verified   \n",
       "3      someone shared with me that the metro of st. p...      not verified   \n",
       "4      someone shared with me that the number of busi...      not verified   \n",
       "...                                                  ...               ...   \n",
       "19079  in our opinion the earth holds about 11 quinti...      not verified   \n",
       "19080  in our opinion the queens in ant colonies live...      not verified   \n",
       "19081  in our opinion the moon is moving away from th...      not verified   \n",
       "19082  in our opinion lightning strikes somewhere on ...      not verified   \n",
       "19083  in our opinion a pineapple plant can only prod...      not verified   \n",
       "\n",
       "      estado_bloqueo_autor  vistas_video  likes_video  compartido_video  \\\n",
       "0             under review      343296.0      19425.0             241.0   \n",
       "1                   active      140877.0      77355.0           19034.0   \n",
       "2                   active      902185.0      97690.0            2858.0   \n",
       "3                   active      437506.0     239954.0           34812.0   \n",
       "4                   active       56167.0      34987.0            4110.0   \n",
       "...                    ...           ...          ...               ...   \n",
       "19079               active        6067.0        423.0              81.0   \n",
       "19080               active        2973.0        820.0              70.0   \n",
       "19081               active         734.0        102.0               7.0   \n",
       "19082               active        3394.0        655.0             123.0   \n",
       "19083               active        5034.0        815.0             281.0   \n",
       "\n",
       "       descargas_video  comentarios_video  \n",
       "0                  1.0                0.0  \n",
       "1               1161.0              684.0  \n",
       "2                833.0              329.0  \n",
       "3               1234.0              584.0  \n",
       "4                547.0              152.0  \n",
       "...                ...                ...  \n",
       "19079              8.0                2.0  \n",
       "19080              3.0                0.0  \n",
       "19081              2.0                1.0  \n",
       "19082             11.0                4.0  \n",
       "19083             11.0                1.0  \n",
       "\n",
       "[19084 rows x 13 columns]"
      ]
     },
     "execution_count": 2,
     "metadata": {},
     "output_type": "execute_result"
    }
   ],
   "source": [
    "#Lectura del dataset sin datos faltantes\n",
    "tik_tok2= pd.read_csv('../Data/tik_tok2.csv',delimiter=';',encoding='utf8')\n",
    "tik_tok2"
   ]
  },
  {
   "cell_type": "code",
   "execution_count": 3,
   "id": "67f94f4e",
   "metadata": {},
   "outputs": [
    {
     "name": "stdout",
     "output_type": "stream",
     "text": [
      "<class 'pandas.core.frame.DataFrame'>\n",
      "RangeIndex: 19084 entries, 0 to 19083\n",
      "Data columns (total 14 columns):\n",
      " #   Column                Non-Null Count  Dtype  \n",
      "---  ------                --------------  -----  \n",
      " 0   Unnamed: 0            19084 non-null  int64  \n",
      " 1   ID                    19084 non-null  int64  \n",
      " 2   tipo_declaracion      19084 non-null  object \n",
      " 3   ID_video              19084 non-null  int64  \n",
      " 4   duracion_video_seg    19084 non-null  int64  \n",
      " 5   transcripcion_video   19084 non-null  object \n",
      " 6   estado_verificado     19084 non-null  object \n",
      " 7   estado_bloqueo_autor  19084 non-null  object \n",
      " 8   vistas_video          19084 non-null  float64\n",
      " 9   likes_video           19084 non-null  float64\n",
      " 10  compartido_video      19084 non-null  float64\n",
      " 11  descargas_video       19084 non-null  float64\n",
      " 12  comentarios_video     19084 non-null  float64\n",
      " 13  largo_de_texto        19084 non-null  int64  \n",
      "dtypes: float64(5), int64(5), object(4)\n",
      "memory usage: 2.0+ MB\n"
     ]
    }
   ],
   "source": [
    "#Creamos una variable que contiene la cantidad de caracteres a partir de la variable transcripcion_video para poder trabajarla como integer\n",
    "tik_tok2['largo_de_texto'] = tik_tok2['transcripcion_video'].str.len()\n",
    "#Verificamos creación de nueva variable\n",
    "tik_tok2.info()"
   ]
  },
  {
   "cell_type": "code",
   "execution_count": 4,
   "id": "654d1469",
   "metadata": {},
   "outputs": [
    {
     "data": {
      "text/plain": [
       "0         97\n",
       "1        107\n",
       "2        137\n",
       "3        131\n",
       "4        128\n",
       "        ... \n",
       "19079     65\n",
       "19080     66\n",
       "19081     53\n",
       "19082     80\n",
       "19083     70\n",
       "Name: largo_de_texto, Length: 19084, dtype: int64"
      ]
     },
     "execution_count": 4,
     "metadata": {},
     "output_type": "execute_result"
    }
   ],
   "source": [
    "tik_tok2['largo_de_texto']"
   ]
  },
  {
   "cell_type": "code",
   "execution_count": 5,
   "id": "69ed5f91",
   "metadata": {},
   "outputs": [
    {
     "data": {
      "image/png": "[encoded data removed]",
      "text/plain": [
       "<Figure size 500x300 with 1 Axes>"
      ]
     },
     "metadata": {},
     "output_type": "display_data"
    }
   ],
   "source": [
    "#Histograma con matplotlib\n",
    "plt.figure(figsize=(5,3))\n",
    "sns.histplot(tik_tok2['largo_de_texto'], bins=30)\n",
    "plt.title('Cantidad de caracteres contenidos en la transcripción del video');"
   ]
  },
  {
   "cell_type": "markdown",
   "id": "31509af7",
   "metadata": {},
   "source": [
    "<div class=\"alert alert-block alert-success\">\n",
    "A partir de una variable de tipo objeto (transcripcion_video) se extrajo la cantidad de caracteres del texto y se creó una nueva variable de tipo integer, la cual presenta una distribución normal.</div>"
   ]
  },
  {
   "cell_type": "code",
   "execution_count": 6,
   "id": "63717150",
   "metadata": {},
   "outputs": [
    {
     "data": {
      "text/plain": [
       "<Axes: xlabel='tipo_declaracion', ylabel='largo_de_texto'>"
      ]
     },
     "execution_count": 6,
     "metadata": {},
     "output_type": "execute_result"
    },
    {
     "data": {
      "image/png": "[encoded data removed]",
      "text/plain": [
       "<Figure size 640x480 with 1 Axes>"
      ]
     },
     "metadata": {},
     "output_type": "display_data"
    }
   ],
   "source": [
    "sns.barplot(data=tik_tok2, x='tipo_declaracion', y='largo_de_texto')"
   ]
  },
  {
   "cell_type": "markdown",
   "id": "d5d91c8b",
   "metadata": {},
   "source": [
    "<div class=\"alert alert-block alert-success\">\n",
    "La variable 'largo_de_texto' no sería tan útil para diferenciar clases de declaración (claim y opinion) como el resto de las variables numéricas .</div>"
   ]
  },
  {
   "cell_type": "code",
   "execution_count": 7,
   "id": "7bf0626e",
   "metadata": {},
   "outputs": [
    {
     "data": {
      "text/plain": [
       "Unnamed: 0              0\n",
       "ID                      0\n",
       "tipo_declaracion        0\n",
       "ID_video                0\n",
       "duracion_video_seg      0\n",
       "transcripcion_video     0\n",
       "estado_verificado       0\n",
       "estado_bloqueo_autor    0\n",
       "vistas_video            0\n",
       "likes_video             0\n",
       "compartido_video        0\n",
       "descargas_video         0\n",
       "comentarios_video       0\n",
       "largo_de_texto          0\n",
       "dtype: int64"
      ]
     },
     "execution_count": 7,
     "metadata": {},
     "output_type": "execute_result"
    }
   ],
   "source": [
    "#Verificamos nuevamente la presencia de valores nulos\n",
    "tik_tok2.isnull().sum()"
   ]
  },
  {
   "cell_type": "markdown",
   "id": "d77b712c",
   "metadata": {},
   "source": [
    "<div class=\"alert alert-block alert-success\">\n",
    "Este dataset no contiene datos faltantes.</div>"
   ]
  },
  {
   "cell_type": "markdown",
   "id": "3bdf9213",
   "metadata": {},
   "source": [
    "### Variable a predecir \n"
   ]
  },
  {
   "cell_type": "markdown",
   "id": "602de836",
   "metadata": {},
   "source": [
    "Nuestro objetivo es saber si un video contiene un reclamo o una opinión.\n",
    "\n",
    "Para ello, vamos a utilizar la variable tipo_declaracion, que se divide en dos categorías: reclamo u opinión. Este es un problema de clasificación en aprendizaje automático. La variable tipo_declaracion es la variable a predecir."
   ]
  },
  {
   "cell_type": "markdown",
   "id": "dd083e8b",
   "metadata": {},
   "source": [
    "### Balance de clases"
   ]
  },
  {
   "cell_type": "code",
   "execution_count": 8,
   "id": "b7f4a927",
   "metadata": {},
   "outputs": [
    {
     "data": {
      "text/html": [
       "<div>\n",
       "<style scoped>\n",
       "    .dataframe tbody tr th:only-of-type {\n",
       "        vertical-align: middle;\n",
       "    }\n",
       "\n",
       "    .dataframe tbody tr th {\n",
       "        vertical-align: top;\n",
       "    }\n",
       "\n",
       "    .dataframe thead th {\n",
       "        text-align: right;\n",
       "    }\n",
       "</style>\n",
       "<table border=\"1\" class=\"dataframe\">\n",
       "  <thead>\n",
       "    <tr style=\"text-align: right;\">\n",
       "      <th></th>\n",
       "      <th>cantidad de registros</th>\n",
       "    </tr>\n",
       "    <tr>\n",
       "      <th>tipo_declaracion</th>\n",
       "      <th></th>\n",
       "    </tr>\n",
       "  </thead>\n",
       "  <tbody>\n",
       "    <tr>\n",
       "      <th>claim</th>\n",
       "      <td>9608</td>\n",
       "    </tr>\n",
       "    <tr>\n",
       "      <th>opinion</th>\n",
       "      <td>9476</td>\n",
       "    </tr>\n",
       "  </tbody>\n",
       "</table>\n",
       "</div>"
      ],
      "text/plain": [
       "                  cantidad de registros\n",
       "tipo_declaracion                       \n",
       "claim                              9608\n",
       "opinion                            9476"
      ]
     },
     "execution_count": 8,
     "metadata": {},
     "output_type": "execute_result"
    }
   ],
   "source": [
    "#Distribución del tipo de declaración que contiene cada video\n",
    "declarac = tik_tok2.groupby('tipo_declaracion', axis=0)\n",
    "pd.DataFrame(declarac.size(), columns=['cantidad de registros'])"
   ]
  },
  {
   "cell_type": "code",
   "execution_count": 9,
   "id": "188f10cd",
   "metadata": {},
   "outputs": [
    {
     "name": "stdout",
     "output_type": "stream",
     "text": [
      "claim     0.503\n",
      "opinion   0.497\n",
      "Name: tipo_declaracion, dtype: float64\n"
     ]
    }
   ],
   "source": [
    "#Proporción de las categorías de la variable tipo_declaracion\n",
    "pd.options.display.float_format = '{:.3f}'.format\n",
    "print(tik_tok2['tipo_declaracion'].value_counts(normalize=True))"
   ]
  },
  {
   "cell_type": "markdown",
   "id": "82fd050a",
   "metadata": {},
   "source": [
    "<div class=\"alert alert-block alert-success\">\n",
    "La proporción de reclamos es casi igual que la proporción de opiniones (50,3% y 49,7%, respectivamente), por lo que no hay un desbalance de clases. </div>"
   ]
  },
  {
   "cell_type": "markdown",
   "id": "4b144014",
   "metadata": {},
   "source": [
    "## PRE PROCESAMIENTO\n",
    "En esta etapa se aplican técnicas de transformación de datos para mejorar el poder predictivo del modelo que se pretenda usar.\n"
   ]
  },
  {
   "cell_type": "markdown",
   "id": "5982f968",
   "metadata": {},
   "source": [
    "Consultamos los niveles de cada una de las variables categóricas\n"
   ]
  },
  {
   "cell_type": "code",
   "execution_count": 10,
   "id": "8ac4afc0",
   "metadata": {},
   "outputs": [
    {
     "name": "stdout",
     "output_type": "stream",
     "text": [
      "<class 'pandas.core.frame.DataFrame'>\n",
      "RangeIndex: 19084 entries, 0 to 19083\n",
      "Data columns (total 14 columns):\n",
      " #   Column                Non-Null Count  Dtype  \n",
      "---  ------                --------------  -----  \n",
      " 0   Unnamed: 0            19084 non-null  int64  \n",
      " 1   ID                    19084 non-null  int64  \n",
      " 2   tipo_declaracion      19084 non-null  object \n",
      " 3   ID_video              19084 non-null  int64  \n",
      " 4   duracion_video_seg    19084 non-null  int64  \n",
      " 5   transcripcion_video   19084 non-null  object \n",
      " 6   estado_verificado     19084 non-null  object \n",
      " 7   estado_bloqueo_autor  19084 non-null  object \n",
      " 8   vistas_video          19084 non-null  float64\n",
      " 9   likes_video           19084 non-null  float64\n",
      " 10  compartido_video      19084 non-null  float64\n",
      " 11  descargas_video       19084 non-null  float64\n",
      " 12  comentarios_video     19084 non-null  float64\n",
      " 13  largo_de_texto        19084 non-null  int64  \n",
      "dtypes: float64(5), int64(5), object(4)\n",
      "memory usage: 2.0+ MB\n"
     ]
    }
   ],
   "source": [
    "tik_tok2.info()"
   ]
  },
  {
   "cell_type": "code",
   "execution_count": 11,
   "id": "a04d99f1",
   "metadata": {},
   "outputs": [
    {
     "name": "stdout",
     "output_type": "stream",
     "text": [
      "['claim' 'opinion']\n",
      "['not verified' 'verified']\n",
      "['under review' 'active' 'banned']\n"
     ]
    }
   ],
   "source": [
    "print(tik_tok2['tipo_declaracion'].unique())\n",
    "print(tik_tok2['estado_verificado'].unique())\n",
    "print(tik_tok2['estado_bloqueo_autor'].unique())"
   ]
  },
  {
   "cell_type": "markdown",
   "id": "c6ee0101",
   "metadata": {
    "id": "c7b29aed"
   },
   "source": [
    "### Encodeamos las variables categóricas"
   ]
  },
  {
   "cell_type": "code",
   "execution_count": 12,
   "id": "bde970ee",
   "metadata": {
    "executionInfo": {
     "elapsed": 448,
     "status": "ok",
     "timestamp": 1696950587352,
     "user": {
      "displayName": "Rocío Ordinola",
      "userId": "11095098482500983750"
     },
     "user_tz": 180
    },
    "id": "8f01c288"
   },
   "outputs": [],
   "source": [
    "#Generamos un nuevo dataframe para probar que todo funcione y no pisar el anterior\n",
    "tik_tok3=tik_tok2 "
   ]
  },
  {
   "cell_type": "code",
   "execution_count": 13,
   "id": "3ebd3a8a",
   "metadata": {
    "colab": {
     "base_uri": "https://localhost:8080/"
    },
    "executionInfo": {
     "elapsed": 6,
     "status": "ok",
     "timestamp": 1696950575677,
     "user": {
      "displayName": "Rocío Ordinola",
      "userId": "11095098482500983750"
     },
     "user_tz": 180
    },
    "id": "8208681d",
    "outputId": "89b8d2c0-47bc-4756-b485-d58505e89ffc"
   },
   "outputs": [
    {
     "data": {
      "text/plain": [
       "{'claim': 1, 'opinion': 0}"
      ]
     },
     "execution_count": 13,
     "metadata": {},
     "output_type": "execute_result"
    }
   ],
   "source": [
    "tipo_declaracion_mapper = {\n",
    "   'claim': 1,\n",
    "    'opinion': 0}\n",
    "tipo_declaracion_mapper"
   ]
  },
  {
   "cell_type": "code",
   "execution_count": 14,
   "id": "c24c3e7c",
   "metadata": {
    "colab": {
     "base_uri": "https://localhost:8080/"
    },
    "executionInfo": {
     "elapsed": 7,
     "status": "ok",
     "timestamp": 1696950590296,
     "user": {
      "displayName": "Rocío Ordinola",
      "userId": "11095098482500983750"
     },
     "user_tz": 180
    },
    "id": "06feb8dd",
    "outputId": "ca8957ef-4024-4ec3-96c0-ca5082c89858"
   },
   "outputs": [
    {
     "data": {
      "text/plain": [
       "0        1\n",
       "1        1\n",
       "2        1\n",
       "3        1\n",
       "4        1\n",
       "        ..\n",
       "19079    0\n",
       "19080    0\n",
       "19081    0\n",
       "19082    0\n",
       "19083    0\n",
       "Name: tipo_declaracion, Length: 19084, dtype: int64"
      ]
     },
     "execution_count": 14,
     "metadata": {},
     "output_type": "execute_result"
    }
   ],
   "source": [
    "tik_tok3['tipo_declaracion'] = tik_tok2['tipo_declaracion'].map(tipo_declaracion_mapper)\n",
    "tik_tok3['tipo_declaracion']"
   ]
  },
  {
   "cell_type": "markdown",
   "id": "060c840b",
   "metadata": {},
   "source": [
    "<div class=\"alert alert-block alert-success\">\n",
    "Después de codificar las etiquetas de clase de la variable a predecir, los reclamos ahora se representan como clase 1 y las opiniones se representan como clase 0. </div>\n"
   ]
  },
  {
   "cell_type": "code",
   "execution_count": 15,
   "id": "ddb6aca6",
   "metadata": {
    "colab": {
     "base_uri": "https://localhost:8080/"
    },
    "executionInfo": {
     "elapsed": 8,
     "status": "ok",
     "timestamp": 1696950599231,
     "user": {
      "displayName": "Rocío Ordinola",
      "userId": "11095098482500983750"
     },
     "user_tz": 180
    },
    "id": "ba4532b8",
    "outputId": "a0207041-a29f-4a34-b2eb-f5cfdf9de364"
   },
   "outputs": [
    {
     "data": {
      "text/plain": [
       "{'not verified': 0, 'verified': 1}"
      ]
     },
     "execution_count": 15,
     "metadata": {},
     "output_type": "execute_result"
    }
   ],
   "source": [
    "verificado_mapper = {\n",
    "   'not verified': 0,\n",
    "    'verified': 1}\n",
    "verificado_mapper"
   ]
  },
  {
   "cell_type": "code",
   "execution_count": 16,
   "id": "fc8a2190",
   "metadata": {
    "colab": {
     "base_uri": "https://localhost:8080/"
    },
    "executionInfo": {
     "elapsed": 464,
     "status": "ok",
     "timestamp": 1696950603586,
     "user": {
      "displayName": "Rocío Ordinola",
      "userId": "11095098482500983750"
     },
     "user_tz": 180
    },
    "id": "142ab3c4",
    "outputId": "6a339aee-eeb2-4056-959a-c43520e0023b"
   },
   "outputs": [
    {
     "data": {
      "text/plain": [
       "0        0\n",
       "1        0\n",
       "2        0\n",
       "3        0\n",
       "4        0\n",
       "        ..\n",
       "19079    0\n",
       "19080    0\n",
       "19081    0\n",
       "19082    0\n",
       "19083    0\n",
       "Name: estado_verificado, Length: 19084, dtype: int64"
      ]
     },
     "execution_count": 16,
     "metadata": {},
     "output_type": "execute_result"
    }
   ],
   "source": [
    "tik_tok3['estado_verificado'] = tik_tok2['estado_verificado'].map(verificado_mapper)\n",
    "tik_tok3['estado_verificado']"
   ]
  },
  {
   "cell_type": "code",
   "execution_count": 17,
   "id": "291f0233",
   "metadata": {
    "colab": {
     "base_uri": "https://localhost:8080/"
    },
    "executionInfo": {
     "elapsed": 7,
     "status": "ok",
     "timestamp": 1696950683157,
     "user": {
      "displayName": "Rocío Ordinola",
      "userId": "11095098482500983750"
     },
     "user_tz": 180
    },
    "id": "65d87c6c",
    "outputId": "080f3970-ba37-446b-b588-b3849fa6cc01"
   },
   "outputs": [
    {
     "data": {
      "text/plain": [
       "{'active': 1, 'under review': 2, 'banned': 3}"
      ]
     },
     "execution_count": 17,
     "metadata": {},
     "output_type": "execute_result"
    }
   ],
   "source": [
    "bloqueo_mapper = {\n",
    "   'active': 1,\n",
    "    'under review': 2,\n",
    "    'banned': 3}\n",
    "bloqueo_mapper"
   ]
  },
  {
   "cell_type": "code",
   "execution_count": 18,
   "id": "5f500939",
   "metadata": {
    "colab": {
     "base_uri": "https://localhost:8080/"
    },
    "executionInfo": {
     "elapsed": 9,
     "status": "ok",
     "timestamp": 1696950687973,
     "user": {
      "displayName": "Rocío Ordinola",
      "userId": "11095098482500983750"
     },
     "user_tz": 180
    },
    "id": "68d2ec3e",
    "outputId": "ab8e1993-9dbe-4c87-92a1-40f0ae29c4d7"
   },
   "outputs": [
    {
     "data": {
      "text/plain": [
       "0        2\n",
       "1        1\n",
       "2        1\n",
       "3        1\n",
       "4        1\n",
       "        ..\n",
       "19079    1\n",
       "19080    1\n",
       "19081    1\n",
       "19082    1\n",
       "19083    1\n",
       "Name: estado_bloqueo_autor, Length: 19084, dtype: int64"
      ]
     },
     "execution_count": 18,
     "metadata": {},
     "output_type": "execute_result"
    }
   ],
   "source": [
    "tik_tok3['estado_bloqueo_autor'] = tik_tok2['estado_bloqueo_autor'].map(bloqueo_mapper)\n",
    "tik_tok3['estado_bloqueo_autor']"
   ]
  },
  {
   "cell_type": "code",
   "execution_count": 19,
   "id": "f0fcefb5",
   "metadata": {
    "colab": {
     "base_uri": "https://localhost:8080/"
    },
    "executionInfo": {
     "elapsed": 7,
     "status": "ok",
     "timestamp": 1696950731144,
     "user": {
      "displayName": "Rocío Ordinola",
      "userId": "11095098482500983750"
     },
     "user_tz": 180
    },
    "id": "96844cbd",
    "outputId": "aae3bfaa-b202-4bd1-d77f-2ca3e3b1b9d2"
   },
   "outputs": [
    {
     "data": {
      "text/plain": [
       "0        1\n",
       "1        1\n",
       "2        1\n",
       "3        1\n",
       "4        1\n",
       "        ..\n",
       "19079    1\n",
       "19080    1\n",
       "19081    0\n",
       "19082    1\n",
       "19083    1\n",
       "Name: largo_de_texto, Length: 19084, dtype: int64"
      ]
     },
     "execution_count": 19,
     "metadata": {},
     "output_type": "execute_result"
    }
   ],
   "source": [
    "tik_tok3['largo_de_texto']=tik_tok2['largo_de_texto'].apply(lambda x: 0 if x < 60  else 1)\n",
    "tik_tok3['largo_de_texto']"
   ]
  },
  {
   "cell_type": "code",
   "execution_count": 20,
   "id": "15bb71b3",
   "metadata": {
    "colab": {
     "base_uri": "https://localhost:8080/",
     "height": 773
    },
    "executionInfo": {
     "elapsed": 378,
     "status": "ok",
     "timestamp": 1696957677766,
     "user": {
      "displayName": "Rocío Ordinola",
      "userId": "11095098482500983750"
     },
     "user_tz": 180
    },
    "id": "BaNWi-uBjyq0",
    "outputId": "118839e0-bf94-4e32-b649-ce539e02cf66"
   },
   "outputs": [
    {
     "data": {
      "text/html": [
       "<div>\n",
       "<style scoped>\n",
       "    .dataframe tbody tr th:only-of-type {\n",
       "        vertical-align: middle;\n",
       "    }\n",
       "\n",
       "    .dataframe tbody tr th {\n",
       "        vertical-align: top;\n",
       "    }\n",
       "\n",
       "    .dataframe thead th {\n",
       "        text-align: right;\n",
       "    }\n",
       "</style>\n",
       "<table border=\"1\" class=\"dataframe\">\n",
       "  <thead>\n",
       "    <tr style=\"text-align: right;\">\n",
       "      <th></th>\n",
       "      <th>Unnamed: 0</th>\n",
       "      <th>ID</th>\n",
       "      <th>tipo_declaracion</th>\n",
       "      <th>ID_video</th>\n",
       "      <th>duracion_video_seg</th>\n",
       "      <th>transcripcion_video</th>\n",
       "      <th>estado_verificado</th>\n",
       "      <th>estado_bloqueo_autor</th>\n",
       "      <th>vistas_video</th>\n",
       "      <th>likes_video</th>\n",
       "      <th>compartido_video</th>\n",
       "      <th>descargas_video</th>\n",
       "      <th>comentarios_video</th>\n",
       "      <th>largo_de_texto</th>\n",
       "    </tr>\n",
       "  </thead>\n",
       "  <tbody>\n",
       "    <tr>\n",
       "      <th>0</th>\n",
       "      <td>0</td>\n",
       "      <td>1</td>\n",
       "      <td>1</td>\n",
       "      <td>7017666017</td>\n",
       "      <td>59</td>\n",
       "      <td>someone shared with me that drone deliveries a...</td>\n",
       "      <td>0</td>\n",
       "      <td>2</td>\n",
       "      <td>343296.000</td>\n",
       "      <td>19425.000</td>\n",
       "      <td>241.000</td>\n",
       "      <td>1.000</td>\n",
       "      <td>0.000</td>\n",
       "      <td>1</td>\n",
       "    </tr>\n",
       "    <tr>\n",
       "      <th>1</th>\n",
       "      <td>1</td>\n",
       "      <td>2</td>\n",
       "      <td>1</td>\n",
       "      <td>4014381136</td>\n",
       "      <td>32</td>\n",
       "      <td>someone shared with me that there are more mic...</td>\n",
       "      <td>0</td>\n",
       "      <td>1</td>\n",
       "      <td>140877.000</td>\n",
       "      <td>77355.000</td>\n",
       "      <td>19034.000</td>\n",
       "      <td>1161.000</td>\n",
       "      <td>684.000</td>\n",
       "      <td>1</td>\n",
       "    </tr>\n",
       "    <tr>\n",
       "      <th>2</th>\n",
       "      <td>2</td>\n",
       "      <td>3</td>\n",
       "      <td>1</td>\n",
       "      <td>9859838091</td>\n",
       "      <td>31</td>\n",
       "      <td>someone shared with me that american industria...</td>\n",
       "      <td>0</td>\n",
       "      <td>1</td>\n",
       "      <td>902185.000</td>\n",
       "      <td>97690.000</td>\n",
       "      <td>2858.000</td>\n",
       "      <td>833.000</td>\n",
       "      <td>329.000</td>\n",
       "      <td>1</td>\n",
       "    </tr>\n",
       "    <tr>\n",
       "      <th>3</th>\n",
       "      <td>3</td>\n",
       "      <td>4</td>\n",
       "      <td>1</td>\n",
       "      <td>1866847991</td>\n",
       "      <td>25</td>\n",
       "      <td>someone shared with me that the metro of st. p...</td>\n",
       "      <td>0</td>\n",
       "      <td>1</td>\n",
       "      <td>437506.000</td>\n",
       "      <td>239954.000</td>\n",
       "      <td>34812.000</td>\n",
       "      <td>1234.000</td>\n",
       "      <td>584.000</td>\n",
       "      <td>1</td>\n",
       "    </tr>\n",
       "    <tr>\n",
       "      <th>4</th>\n",
       "      <td>4</td>\n",
       "      <td>5</td>\n",
       "      <td>1</td>\n",
       "      <td>7105231098</td>\n",
       "      <td>19</td>\n",
       "      <td>someone shared with me that the number of busi...</td>\n",
       "      <td>0</td>\n",
       "      <td>1</td>\n",
       "      <td>56167.000</td>\n",
       "      <td>34987.000</td>\n",
       "      <td>4110.000</td>\n",
       "      <td>547.000</td>\n",
       "      <td>152.000</td>\n",
       "      <td>1</td>\n",
       "    </tr>\n",
       "  </tbody>\n",
       "</table>\n",
       "</div>"
      ],
      "text/plain": [
       "   Unnamed: 0  ID  tipo_declaracion    ID_video  duracion_video_seg  \\\n",
       "0           0   1                 1  7017666017                  59   \n",
       "1           1   2                 1  4014381136                  32   \n",
       "2           2   3                 1  9859838091                  31   \n",
       "3           3   4                 1  1866847991                  25   \n",
       "4           4   5                 1  7105231098                  19   \n",
       "\n",
       "                                 transcripcion_video  estado_verificado  \\\n",
       "0  someone shared with me that drone deliveries a...                  0   \n",
       "1  someone shared with me that there are more mic...                  0   \n",
       "2  someone shared with me that american industria...                  0   \n",
       "3  someone shared with me that the metro of st. p...                  0   \n",
       "4  someone shared with me that the number of busi...                  0   \n",
       "\n",
       "   estado_bloqueo_autor  vistas_video  likes_video  compartido_video  \\\n",
       "0                     2    343296.000    19425.000           241.000   \n",
       "1                     1    140877.000    77355.000         19034.000   \n",
       "2                     1    902185.000    97690.000          2858.000   \n",
       "3                     1    437506.000   239954.000         34812.000   \n",
       "4                     1     56167.000    34987.000          4110.000   \n",
       "\n",
       "   descargas_video  comentarios_video  largo_de_texto  \n",
       "0            1.000              0.000               1  \n",
       "1         1161.000            684.000               1  \n",
       "2          833.000            329.000               1  \n",
       "3         1234.000            584.000               1  \n",
       "4          547.000            152.000               1  "
      ]
     },
     "execution_count": 20,
     "metadata": {},
     "output_type": "execute_result"
    }
   ],
   "source": [
    "tik_tok3.head()"
   ]
  },
  {
   "cell_type": "code",
   "execution_count": 21,
   "id": "f6e152b9",
   "metadata": {},
   "outputs": [],
   "source": [
    "#Guardamos dataset trabajado como punto de partida para el resto de los análisis\n",
    "tik_tok3.to_csv('tik_tok3.csv', encoding='utf-8')"
   ]
  },
  {
   "cell_type": "code",
   "execution_count": 22,
   "id": "80fe3eed",
   "metadata": {},
   "outputs": [
    {
     "name": "stdout",
     "output_type": "stream",
     "text": [
      "<class 'pandas.core.frame.DataFrame'>\n",
      "RangeIndex: 19084 entries, 0 to 19083\n",
      "Data columns (total 14 columns):\n",
      " #   Column                Non-Null Count  Dtype  \n",
      "---  ------                --------------  -----  \n",
      " 0   Unnamed: 0            19084 non-null  int64  \n",
      " 1   ID                    19084 non-null  int64  \n",
      " 2   tipo_declaracion      19084 non-null  int64  \n",
      " 3   ID_video              19084 non-null  int64  \n",
      " 4   duracion_video_seg    19084 non-null  int64  \n",
      " 5   transcripcion_video   19084 non-null  object \n",
      " 6   estado_verificado     19084 non-null  int64  \n",
      " 7   estado_bloqueo_autor  19084 non-null  int64  \n",
      " 8   vistas_video          19084 non-null  float64\n",
      " 9   likes_video           19084 non-null  float64\n",
      " 10  compartido_video      19084 non-null  float64\n",
      " 11  descargas_video       19084 non-null  float64\n",
      " 12  comentarios_video     19084 non-null  float64\n",
      " 13  largo_de_texto        19084 non-null  int64  \n",
      "dtypes: float64(5), int64(8), object(1)\n",
      "memory usage: 2.0+ MB\n"
     ]
    }
   ],
   "source": [
    "tik_tok3.info()"
   ]
  },
  {
   "cell_type": "code",
   "execution_count": 23,
   "id": "99f2753b",
   "metadata": {},
   "outputs": [],
   "source": [
    "#Eliminamos columnas que no aportan información\n",
    "tik_tok3_mod = tik_tok3.drop(['Unnamed: 0', 'ID', 'ID_video', 'duracion_video_seg', 'transcripcion_video'], axis=1)"
   ]
  },
  {
   "cell_type": "code",
   "execution_count": 24,
   "id": "0c315304",
   "metadata": {},
   "outputs": [
    {
     "name": "stdout",
     "output_type": "stream",
     "text": [
      "<class 'pandas.core.frame.DataFrame'>\n",
      "RangeIndex: 19084 entries, 0 to 19083\n",
      "Data columns (total 9 columns):\n",
      " #   Column                Non-Null Count  Dtype  \n",
      "---  ------                --------------  -----  \n",
      " 0   tipo_declaracion      19084 non-null  int64  \n",
      " 1   estado_verificado     19084 non-null  int64  \n",
      " 2   estado_bloqueo_autor  19084 non-null  int64  \n",
      " 3   vistas_video          19084 non-null  float64\n",
      " 4   likes_video           19084 non-null  float64\n",
      " 5   compartido_video      19084 non-null  float64\n",
      " 6   descargas_video       19084 non-null  float64\n",
      " 7   comentarios_video     19084 non-null  float64\n",
      " 8   largo_de_texto        19084 non-null  int64  \n",
      "dtypes: float64(5), int64(4)\n",
      "memory usage: 1.3 MB\n"
     ]
    }
   ],
   "source": [
    "tik_tok3_mod.info()"
   ]
  },
  {
   "cell_type": "code",
   "execution_count": 25,
   "id": "3f9f841c",
   "metadata": {},
   "outputs": [],
   "source": [
    "#Calculamos la matriz de correlación para las variables numéricas\n",
    "corr = tik_tok3_mod.corr()"
   ]
  },
  {
   "cell_type": "code",
   "execution_count": 26,
   "id": "a7bed549",
   "metadata": {},
   "outputs": [
    {
     "data": {
      "image/png": "[encoded data removed]",
      "text/plain": [
       "<Figure size 640x480 with 2 Axes>"
      ]
     },
     "metadata": {},
     "output_type": "display_data"
    }
   ],
   "source": [
    "#Representación visual de la matriz de correlación\n",
    "sns.heatmap(corr, annot=True)\n",
    "plt.show()"
   ]
  },
  {
   "cell_type": "markdown",
   "id": "aa42167d",
   "metadata": {},
   "source": [
    "<div class=\"alert alert-block alert-success\">\n",
    "La variables que parecerían tener mayor relación con el tipo de declaración son la cantidad de vistas y la cantidad de likes del video. </div>"
   ]
  },
  {
   "cell_type": "markdown",
   "id": "2083b677",
   "metadata": {},
   "source": [
    "### Seleccion de target (y) y variables (X)"
   ]
  },
  {
   "cell_type": "markdown",
   "id": "d63c93d6",
   "metadata": {},
   "source": [
    "Como variable a predecir (y) vamos a usar 'tipo_declaracion'. Debemos asegurarnos de no incluir la variables a predecir entre las features o variables independientes. "
   ]
  },
  {
   "cell_type": "code",
   "execution_count": 27,
   "id": "87e99db0",
   "metadata": {},
   "outputs": [
    {
     "data": {
      "text/html": [
       "<div>\n",
       "<style scoped>\n",
       "    .dataframe tbody tr th:only-of-type {\n",
       "        vertical-align: middle;\n",
       "    }\n",
       "\n",
       "    .dataframe tbody tr th {\n",
       "        vertical-align: top;\n",
       "    }\n",
       "\n",
       "    .dataframe thead th {\n",
       "        text-align: right;\n",
       "    }\n",
       "</style>\n",
       "<table border=\"1\" class=\"dataframe\">\n",
       "  <thead>\n",
       "    <tr style=\"text-align: right;\">\n",
       "      <th></th>\n",
       "      <th>estado_verificado</th>\n",
       "      <th>estado_bloqueo_autor</th>\n",
       "      <th>vistas_video</th>\n",
       "      <th>likes_video</th>\n",
       "      <th>compartido_video</th>\n",
       "      <th>descargas_video</th>\n",
       "      <th>comentarios_video</th>\n",
       "      <th>largo_de_texto</th>\n",
       "    </tr>\n",
       "  </thead>\n",
       "  <tbody>\n",
       "    <tr>\n",
       "      <th>0</th>\n",
       "      <td>0</td>\n",
       "      <td>2</td>\n",
       "      <td>343296.000</td>\n",
       "      <td>19425.000</td>\n",
       "      <td>241.000</td>\n",
       "      <td>1.000</td>\n",
       "      <td>0.000</td>\n",
       "      <td>1</td>\n",
       "    </tr>\n",
       "    <tr>\n",
       "      <th>1</th>\n",
       "      <td>0</td>\n",
       "      <td>1</td>\n",
       "      <td>140877.000</td>\n",
       "      <td>77355.000</td>\n",
       "      <td>19034.000</td>\n",
       "      <td>1161.000</td>\n",
       "      <td>684.000</td>\n",
       "      <td>1</td>\n",
       "    </tr>\n",
       "    <tr>\n",
       "      <th>2</th>\n",
       "      <td>0</td>\n",
       "      <td>1</td>\n",
       "      <td>902185.000</td>\n",
       "      <td>97690.000</td>\n",
       "      <td>2858.000</td>\n",
       "      <td>833.000</td>\n",
       "      <td>329.000</td>\n",
       "      <td>1</td>\n",
       "    </tr>\n",
       "    <tr>\n",
       "      <th>3</th>\n",
       "      <td>0</td>\n",
       "      <td>1</td>\n",
       "      <td>437506.000</td>\n",
       "      <td>239954.000</td>\n",
       "      <td>34812.000</td>\n",
       "      <td>1234.000</td>\n",
       "      <td>584.000</td>\n",
       "      <td>1</td>\n",
       "    </tr>\n",
       "    <tr>\n",
       "      <th>4</th>\n",
       "      <td>0</td>\n",
       "      <td>1</td>\n",
       "      <td>56167.000</td>\n",
       "      <td>34987.000</td>\n",
       "      <td>4110.000</td>\n",
       "      <td>547.000</td>\n",
       "      <td>152.000</td>\n",
       "      <td>1</td>\n",
       "    </tr>\n",
       "    <tr>\n",
       "      <th>...</th>\n",
       "      <td>...</td>\n",
       "      <td>...</td>\n",
       "      <td>...</td>\n",
       "      <td>...</td>\n",
       "      <td>...</td>\n",
       "      <td>...</td>\n",
       "      <td>...</td>\n",
       "      <td>...</td>\n",
       "    </tr>\n",
       "    <tr>\n",
       "      <th>19079</th>\n",
       "      <td>0</td>\n",
       "      <td>1</td>\n",
       "      <td>6067.000</td>\n",
       "      <td>423.000</td>\n",
       "      <td>81.000</td>\n",
       "      <td>8.000</td>\n",
       "      <td>2.000</td>\n",
       "      <td>1</td>\n",
       "    </tr>\n",
       "    <tr>\n",
       "      <th>19080</th>\n",
       "      <td>0</td>\n",
       "      <td>1</td>\n",
       "      <td>2973.000</td>\n",
       "      <td>820.000</td>\n",
       "      <td>70.000</td>\n",
       "      <td>3.000</td>\n",
       "      <td>0.000</td>\n",
       "      <td>1</td>\n",
       "    </tr>\n",
       "    <tr>\n",
       "      <th>19081</th>\n",
       "      <td>0</td>\n",
       "      <td>1</td>\n",
       "      <td>734.000</td>\n",
       "      <td>102.000</td>\n",
       "      <td>7.000</td>\n",
       "      <td>2.000</td>\n",
       "      <td>1.000</td>\n",
       "      <td>0</td>\n",
       "    </tr>\n",
       "    <tr>\n",
       "      <th>19082</th>\n",
       "      <td>0</td>\n",
       "      <td>1</td>\n",
       "      <td>3394.000</td>\n",
       "      <td>655.000</td>\n",
       "      <td>123.000</td>\n",
       "      <td>11.000</td>\n",
       "      <td>4.000</td>\n",
       "      <td>1</td>\n",
       "    </tr>\n",
       "    <tr>\n",
       "      <th>19083</th>\n",
       "      <td>0</td>\n",
       "      <td>1</td>\n",
       "      <td>5034.000</td>\n",
       "      <td>815.000</td>\n",
       "      <td>281.000</td>\n",
       "      <td>11.000</td>\n",
       "      <td>1.000</td>\n",
       "      <td>1</td>\n",
       "    </tr>\n",
       "  </tbody>\n",
       "</table>\n",
       "<p>19084 rows × 8 columns</p>\n",
       "</div>"
      ],
      "text/plain": [
       "       estado_verificado  estado_bloqueo_autor  vistas_video  likes_video  \\\n",
       "0                      0                     2    343296.000    19425.000   \n",
       "1                      0                     1    140877.000    77355.000   \n",
       "2                      0                     1    902185.000    97690.000   \n",
       "3                      0                     1    437506.000   239954.000   \n",
       "4                      0                     1     56167.000    34987.000   \n",
       "...                  ...                   ...           ...          ...   \n",
       "19079                  0                     1      6067.000      423.000   \n",
       "19080                  0                     1      2973.000      820.000   \n",
       "19081                  0                     1       734.000      102.000   \n",
       "19082                  0                     1      3394.000      655.000   \n",
       "19083                  0                     1      5034.000      815.000   \n",
       "\n",
       "       compartido_video  descargas_video  comentarios_video  largo_de_texto  \n",
       "0               241.000            1.000              0.000               1  \n",
       "1             19034.000         1161.000            684.000               1  \n",
       "2              2858.000          833.000            329.000               1  \n",
       "3             34812.000         1234.000            584.000               1  \n",
       "4              4110.000          547.000            152.000               1  \n",
       "...                 ...              ...                ...             ...  \n",
       "19079            81.000            8.000              2.000               1  \n",
       "19080            70.000            3.000              0.000               1  \n",
       "19081             7.000            2.000              1.000               0  \n",
       "19082           123.000           11.000              4.000               1  \n",
       "19083           281.000           11.000              1.000               1  \n",
       "\n",
       "[19084 rows x 8 columns]"
      ]
     },
     "execution_count": 27,
     "metadata": {},
     "output_type": "execute_result"
    }
   ],
   "source": [
    "xc = tik_tok3_mod.drop(['tipo_declaracion'], axis=1)\n",
    "xc"
   ]
  },
  {
   "cell_type": "code",
   "execution_count": 28,
   "id": "a45547d6",
   "metadata": {},
   "outputs": [
    {
     "data": {
      "text/plain": [
       "0        1\n",
       "1        1\n",
       "2        1\n",
       "3        1\n",
       "4        1\n",
       "        ..\n",
       "19079    0\n",
       "19080    0\n",
       "19081    0\n",
       "19082    0\n",
       "19083    0\n",
       "Name: tipo_declaracion, Length: 19084, dtype: int64"
      ]
     },
     "execution_count": 28,
     "metadata": {},
     "output_type": "execute_result"
    }
   ],
   "source": [
    "yc = tik_tok3_mod['tipo_declaracion']\n",
    "yc"
   ]
  },
  {
   "cell_type": "markdown",
   "id": "5adcadf3",
   "metadata": {
    "id": "5adcadf3"
   },
   "source": [
    "## MODELADO\n",
    "APRENDIZAJE SUPERVISADO - MODELO DE CLASIFICACIÓN"
   ]
  },
  {
   "cell_type": "markdown",
   "id": "1719bed8",
   "metadata": {},
   "source": [
    "### Preparamos los datos para modelar\n",
    "#### Separamos train/test"
   ]
  },
  {
   "cell_type": "code",
   "execution_count": 29,
   "id": "58d45f21",
   "metadata": {},
   "outputs": [],
   "source": [
    "#Importamos la librería para separar el dataset\n",
    "from sklearn.model_selection import train_test_split"
   ]
  },
  {
   "cell_type": "code",
   "execution_count": 30,
   "id": "77fdff47",
   "metadata": {},
   "outputs": [],
   "source": [
    "#Dividimos el dataset en un conjunto de entrenamiento y un conjunto de prueba (80% entrenamiento, 20% prueba)\n",
    "X_train_c, X_test_c, y_train_c, y_test_c = train_test_split(xc, yc, test_size=0.2,\n",
    "                                                    random_state=42)\n"
   ]
  },
  {
   "cell_type": "code",
   "execution_count": 31,
   "id": "6c6022a9",
   "metadata": {},
   "outputs": [
    {
     "data": {
      "text/plain": [
       "((15267, 8), (15267,), (3817, 8), (3817,))"
      ]
     },
     "execution_count": 31,
     "metadata": {},
     "output_type": "execute_result"
    }
   ],
   "source": [
    "#Verificamos el tamaño de cada conjunto\n",
    "X_train_c.shape, y_train_c.shape, X_test_c.shape, y_test_c.shape"
   ]
  },
  {
   "cell_type": "markdown",
   "id": "2cb1893d",
   "metadata": {},
   "source": [
    "### Modelo predictivo utilizando Random Forest (RF) modificando hiperparámetros"
   ]
  },
  {
   "cell_type": "code",
   "execution_count": 32,
   "id": "0193ab12",
   "metadata": {},
   "outputs": [],
   "source": [
    "from sklearn.ensemble import RandomForestClassifier"
   ]
  },
  {
   "cell_type": "code",
   "execution_count": 33,
   "id": "887c5568",
   "metadata": {},
   "outputs": [],
   "source": [
    "rf = RandomForestClassifier(random_state = 42)"
   ]
  },
  {
   "cell_type": "code",
   "execution_count": 34,
   "id": "1945405a",
   "metadata": {},
   "outputs": [],
   "source": [
    "# Creamos un diccionario de hyperparametros\n",
    "cv_params = {'max_depth': [5, 7, None],\n",
    "             'max_features': [0.3, 0.6],\n",
    "            #  'max_features': 'auto'\n",
    "             'max_samples': [0.7],\n",
    "             'min_samples_leaf': [1,2],\n",
    "             'min_samples_split': [2,3],\n",
    "             'n_estimators': [75,100,200],\n",
    "             }"
   ]
  },
  {
   "cell_type": "code",
   "execution_count": 35,
   "id": "d8806625",
   "metadata": {},
   "outputs": [],
   "source": [
    "# Definimos un diccionario de metricas de scoring\n",
    "scoring = {'accuracy', 'precision', 'recall', 'f1'}"
   ]
  },
  {
   "cell_type": "markdown",
   "id": "186b5d68",
   "metadata": {},
   "source": [
    "Los parámetros del estimador se optimizan mediante una búsqueda con validación cruzada sobre una cuadrícula de parámetros."
   ]
  },
  {
   "cell_type": "code",
   "execution_count": 36,
   "id": "1efe0864",
   "metadata": {},
   "outputs": [],
   "source": [
    "from sklearn.model_selection import GridSearchCV"
   ]
  },
  {
   "cell_type": "code",
   "execution_count": 37,
   "id": "11183e67",
   "metadata": {},
   "outputs": [
    {
     "data": {
      "text/html": [
       "<style>#sk-container-id-1 {color: black;background-color: white;}#sk-container-id-1 pre{padding: 0;}#sk-container-id-1 div.sk-toggleable {background-color: white;}#sk-container-id-1 label.sk-toggleable__label {cursor: pointer;display: block;width: 100%;margin-bottom: 0;padding: 0.3em;box-sizing: border-box;text-align: center;}#sk-container-id-1 label.sk-toggleable__label-arrow:before {content: \"▸\";float: left;margin-right: 0.25em;color: #696969;}#sk-container-id-1 label.sk-toggleable__label-arrow:hover:before {color: black;}#sk-container-id-1 div.sk-estimator:hover label.sk-toggleable__label-arrow:before {color: black;}#sk-container-id-1 div.sk-toggleable__content {max-height: 0;max-width: 0;overflow: hidden;text-align: left;background-color: #f0f8ff;}#sk-container-id-1 div.sk-toggleable__content pre {margin: 0.2em;color: black;border-radius: 0.25em;background-color: #f0f8ff;}#sk-container-id-1 input.sk-toggleable__control:checked~div.sk-toggleable__content {max-height: 200px;max-width: 100%;overflow: auto;}#sk-container-id-1 input.sk-toggleable__control:checked~label.sk-toggleable__label-arrow:before {content: \"▾\";}#sk-container-id-1 div.sk-estimator input.sk-toggleable__control:checked~label.sk-toggleable__label {background-color: #d4ebff;}#sk-container-id-1 div.sk-label input.sk-toggleable__control:checked~label.sk-toggleable__label {background-color: #d4ebff;}#sk-container-id-1 input.sk-hidden--visually {border: 0;clip: rect(1px 1px 1px 1px);clip: rect(1px, 1px, 1px, 1px);height: 1px;margin: -1px;overflow: hidden;padding: 0;position: absolute;width: 1px;}#sk-container-id-1 div.sk-estimator {font-family: monospace;background-color: #f0f8ff;border: 1px dotted black;border-radius: 0.25em;box-sizing: border-box;margin-bottom: 0.5em;}#sk-container-id-1 div.sk-estimator:hover {background-color: #d4ebff;}#sk-container-id-1 div.sk-parallel-item::after {content: \"\";width: 100%;border-bottom: 1px solid gray;flex-grow: 1;}#sk-container-id-1 div.sk-label:hover label.sk-toggleable__label {background-color: #d4ebff;}#sk-container-id-1 div.sk-serial::before {content: \"\";position: absolute;border-left: 1px solid gray;box-sizing: border-box;top: 0;bottom: 0;left: 50%;z-index: 0;}#sk-container-id-1 div.sk-serial {display: flex;flex-direction: column;align-items: center;background-color: white;padding-right: 0.2em;padding-left: 0.2em;position: relative;}#sk-container-id-1 div.sk-item {position: relative;z-index: 1;}#sk-container-id-1 div.sk-parallel {display: flex;align-items: stretch;justify-content: center;background-color: white;position: relative;}#sk-container-id-1 div.sk-item::before, #sk-container-id-1 div.sk-parallel-item::before {content: \"\";position: absolute;border-left: 1px solid gray;box-sizing: border-box;top: 0;bottom: 0;left: 50%;z-index: -1;}#sk-container-id-1 div.sk-parallel-item {display: flex;flex-direction: column;z-index: 1;position: relative;background-color: white;}#sk-container-id-1 div.sk-parallel-item:first-child::after {align-self: flex-end;width: 50%;}#sk-container-id-1 div.sk-parallel-item:last-child::after {align-self: flex-start;width: 50%;}#sk-container-id-1 div.sk-parallel-item:only-child::after {width: 0;}#sk-container-id-1 div.sk-dashed-wrapped {border: 1px dashed gray;margin: 0 0.4em 0.5em 0.4em;box-sizing: border-box;padding-bottom: 0.4em;background-color: white;}#sk-container-id-1 div.sk-label label {font-family: monospace;font-weight: bold;display: inline-block;line-height: 1.2em;}#sk-container-id-1 div.sk-label-container {text-align: center;}#sk-container-id-1 div.sk-container {/* jupyter's `normalize.less` sets `[hidden] { display: none; }` but bootstrap.min.css set `[hidden] { display: none !important; }` so we also need the `!important` here to be able to override the default hidden behavior on the sphinx rendered scikit-learn.org. See: https://github.com/scikit-learn/scikit-learn/issues/21755 */display: inline-block !important;position: relative;}#sk-container-id-1 div.sk-text-repr-fallback {display: none;}</style><div id=\"sk-container-id-1\" class=\"sk-top-container\"><div class=\"sk-text-repr-fallback\"><pre>GridSearchCV(cv=5, estimator=RandomForestClassifier(random_state=42),\n",
       "             param_grid={&#x27;max_depth&#x27;: [5, 7, None], &#x27;max_features&#x27;: [0.3, 0.6],\n",
       "                         &#x27;max_samples&#x27;: [0.7], &#x27;min_samples_leaf&#x27;: [1, 2],\n",
       "                         &#x27;min_samples_split&#x27;: [2, 3],\n",
       "                         &#x27;n_estimators&#x27;: [75, 100, 200]},\n",
       "             refit=&#x27;recall&#x27;, scoring={&#x27;recall&#x27;, &#x27;precision&#x27;, &#x27;accuracy&#x27;, &#x27;f1&#x27;})</pre><b>In a Jupyter environment, please rerun this cell to show the HTML representation or trust the notebook. <br />On GitHub, the HTML representation is unable to render, please try loading this page with nbviewer.org.</b></div><div class=\"sk-container\" hidden><div class=\"sk-item sk-dashed-wrapped\"><div class=\"sk-label-container\"><div class=\"sk-label sk-toggleable\"><input class=\"sk-toggleable__control sk-hidden--visually\" id=\"sk-estimator-id-1\" type=\"checkbox\" ><label for=\"sk-estimator-id-1\" class=\"sk-toggleable__label sk-toggleable__label-arrow\">GridSearchCV</label><div class=\"sk-toggleable__content\"><pre>GridSearchCV(cv=5, estimator=RandomForestClassifier(random_state=42),\n",
       "             param_grid={&#x27;max_depth&#x27;: [5, 7, None], &#x27;max_features&#x27;: [0.3, 0.6],\n",
       "                         &#x27;max_samples&#x27;: [0.7], &#x27;min_samples_leaf&#x27;: [1, 2],\n",
       "                         &#x27;min_samples_split&#x27;: [2, 3],\n",
       "                         &#x27;n_estimators&#x27;: [75, 100, 200]},\n",
       "             refit=&#x27;recall&#x27;, scoring={&#x27;recall&#x27;, &#x27;precision&#x27;, &#x27;accuracy&#x27;, &#x27;f1&#x27;})</pre></div></div></div><div class=\"sk-parallel\"><div class=\"sk-parallel-item\"><div class=\"sk-item\"><div class=\"sk-label-container\"><div class=\"sk-label sk-toggleable\"><input class=\"sk-toggleable__control sk-hidden--visually\" id=\"sk-estimator-id-2\" type=\"checkbox\" ><label for=\"sk-estimator-id-2\" class=\"sk-toggleable__label sk-toggleable__label-arrow\">estimator: RandomForestClassifier</label><div class=\"sk-toggleable__content\"><pre>RandomForestClassifier(random_state=42)</pre></div></div></div><div class=\"sk-serial\"><div class=\"sk-item\"><div class=\"sk-estimator sk-toggleable\"><input class=\"sk-toggleable__control sk-hidden--visually\" id=\"sk-estimator-id-3\" type=\"checkbox\" ><label for=\"sk-estimator-id-3\" class=\"sk-toggleable__label sk-toggleable__label-arrow\">RandomForestClassifier</label><div class=\"sk-toggleable__content\"><pre>RandomForestClassifier(random_state=42)</pre></div></div></div></div></div></div></div></div></div></div>"
      ],
      "text/plain": [
       "GridSearchCV(cv=5, estimator=RandomForestClassifier(random_state=42),\n",
       "             param_grid={'max_depth': [5, 7, None], 'max_features': [0.3, 0.6],\n",
       "                         'max_samples': [0.7], 'min_samples_leaf': [1, 2],\n",
       "                         'min_samples_split': [2, 3],\n",
       "                         'n_estimators': [75, 100, 200]},\n",
       "             refit='recall', scoring={'recall', 'precision', 'accuracy', 'f1'})"
      ]
     },
     "execution_count": 37,
     "metadata": {},
     "output_type": "execute_result"
    }
   ],
   "source": [
    "# Instanciamos el objeto GridSearchCV\n",
    "rf_cv = GridSearchCV(rf, cv_params, scoring=scoring, cv=5, refit='recall')\n",
    "rf_cv"
   ]
  },
  {
   "cell_type": "code",
   "execution_count": 38,
   "id": "a95dd920",
   "metadata": {},
   "outputs": [],
   "source": [
    "from sklearn.ensemble import RandomForestClassifier"
   ]
  },
  {
   "cell_type": "code",
   "execution_count": 39,
   "id": "b55915c2",
   "metadata": {},
   "outputs": [
    {
     "name": "stdout",
     "output_type": "stream",
     "text": [
      "CPU times: total: 4min 31s\n",
      "Wall time: 4min 39s\n"
     ]
    },
    {
     "data": {
      "text/html": [
       "<style>#sk-container-id-2 {color: black;background-color: white;}#sk-container-id-2 pre{padding: 0;}#sk-container-id-2 div.sk-toggleable {background-color: white;}#sk-container-id-2 label.sk-toggleable__label {cursor: pointer;display: block;width: 100%;margin-bottom: 0;padding: 0.3em;box-sizing: border-box;text-align: center;}#sk-container-id-2 label.sk-toggleable__label-arrow:before {content: \"▸\";float: left;margin-right: 0.25em;color: #696969;}#sk-container-id-2 label.sk-toggleable__label-arrow:hover:before {color: black;}#sk-container-id-2 div.sk-estimator:hover label.sk-toggleable__label-arrow:before {color: black;}#sk-container-id-2 div.sk-toggleable__content {max-height: 0;max-width: 0;overflow: hidden;text-align: left;background-color: #f0f8ff;}#sk-container-id-2 div.sk-toggleable__content pre {margin: 0.2em;color: black;border-radius: 0.25em;background-color: #f0f8ff;}#sk-container-id-2 input.sk-toggleable__control:checked~div.sk-toggleable__content {max-height: 200px;max-width: 100%;overflow: auto;}#sk-container-id-2 input.sk-toggleable__control:checked~label.sk-toggleable__label-arrow:before {content: \"▾\";}#sk-container-id-2 div.sk-estimator input.sk-toggleable__control:checked~label.sk-toggleable__label {background-color: #d4ebff;}#sk-container-id-2 div.sk-label input.sk-toggleable__control:checked~label.sk-toggleable__label {background-color: #d4ebff;}#sk-container-id-2 input.sk-hidden--visually {border: 0;clip: rect(1px 1px 1px 1px);clip: rect(1px, 1px, 1px, 1px);height: 1px;margin: -1px;overflow: hidden;padding: 0;position: absolute;width: 1px;}#sk-container-id-2 div.sk-estimator {font-family: monospace;background-color: #f0f8ff;border: 1px dotted black;border-radius: 0.25em;box-sizing: border-box;margin-bottom: 0.5em;}#sk-container-id-2 div.sk-estimator:hover {background-color: #d4ebff;}#sk-container-id-2 div.sk-parallel-item::after {content: \"\";width: 100%;border-bottom: 1px solid gray;flex-grow: 1;}#sk-container-id-2 div.sk-label:hover label.sk-toggleable__label {background-color: #d4ebff;}#sk-container-id-2 div.sk-serial::before {content: \"\";position: absolute;border-left: 1px solid gray;box-sizing: border-box;top: 0;bottom: 0;left: 50%;z-index: 0;}#sk-container-id-2 div.sk-serial {display: flex;flex-direction: column;align-items: center;background-color: white;padding-right: 0.2em;padding-left: 0.2em;position: relative;}#sk-container-id-2 div.sk-item {position: relative;z-index: 1;}#sk-container-id-2 div.sk-parallel {display: flex;align-items: stretch;justify-content: center;background-color: white;position: relative;}#sk-container-id-2 div.sk-item::before, #sk-container-id-2 div.sk-parallel-item::before {content: \"\";position: absolute;border-left: 1px solid gray;box-sizing: border-box;top: 0;bottom: 0;left: 50%;z-index: -1;}#sk-container-id-2 div.sk-parallel-item {display: flex;flex-direction: column;z-index: 1;position: relative;background-color: white;}#sk-container-id-2 div.sk-parallel-item:first-child::after {align-self: flex-end;width: 50%;}#sk-container-id-2 div.sk-parallel-item:last-child::after {align-self: flex-start;width: 50%;}#sk-container-id-2 div.sk-parallel-item:only-child::after {width: 0;}#sk-container-id-2 div.sk-dashed-wrapped {border: 1px dashed gray;margin: 0 0.4em 0.5em 0.4em;box-sizing: border-box;padding-bottom: 0.4em;background-color: white;}#sk-container-id-2 div.sk-label label {font-family: monospace;font-weight: bold;display: inline-block;line-height: 1.2em;}#sk-container-id-2 div.sk-label-container {text-align: center;}#sk-container-id-2 div.sk-container {/* jupyter's `normalize.less` sets `[hidden] { display: none; }` but bootstrap.min.css set `[hidden] { display: none !important; }` so we also need the `!important` here to be able to override the default hidden behavior on the sphinx rendered scikit-learn.org. See: https://github.com/scikit-learn/scikit-learn/issues/21755 */display: inline-block !important;position: relative;}#sk-container-id-2 div.sk-text-repr-fallback {display: none;}</style><div id=\"sk-container-id-2\" class=\"sk-top-container\"><div class=\"sk-text-repr-fallback\"><pre>GridSearchCV(cv=5, estimator=RandomForestClassifier(random_state=42),\n",
       "             param_grid={&#x27;max_depth&#x27;: [5, 7, None], &#x27;max_features&#x27;: [0.3, 0.6],\n",
       "                         &#x27;max_samples&#x27;: [0.7], &#x27;min_samples_leaf&#x27;: [1, 2],\n",
       "                         &#x27;min_samples_split&#x27;: [2, 3],\n",
       "                         &#x27;n_estimators&#x27;: [75, 100, 200]},\n",
       "             refit=&#x27;recall&#x27;, scoring={&#x27;recall&#x27;, &#x27;precision&#x27;, &#x27;accuracy&#x27;, &#x27;f1&#x27;})</pre><b>In a Jupyter environment, please rerun this cell to show the HTML representation or trust the notebook. <br />On GitHub, the HTML representation is unable to render, please try loading this page with nbviewer.org.</b></div><div class=\"sk-container\" hidden><div class=\"sk-item sk-dashed-wrapped\"><div class=\"sk-label-container\"><div class=\"sk-label sk-toggleable\"><input class=\"sk-toggleable__control sk-hidden--visually\" id=\"sk-estimator-id-4\" type=\"checkbox\" ><label for=\"sk-estimator-id-4\" class=\"sk-toggleable__label sk-toggleable__label-arrow\">GridSearchCV</label><div class=\"sk-toggleable__content\"><pre>GridSearchCV(cv=5, estimator=RandomForestClassifier(random_state=42),\n",
       "             param_grid={&#x27;max_depth&#x27;: [5, 7, None], &#x27;max_features&#x27;: [0.3, 0.6],\n",
       "                         &#x27;max_samples&#x27;: [0.7], &#x27;min_samples_leaf&#x27;: [1, 2],\n",
       "                         &#x27;min_samples_split&#x27;: [2, 3],\n",
       "                         &#x27;n_estimators&#x27;: [75, 100, 200]},\n",
       "             refit=&#x27;recall&#x27;, scoring={&#x27;recall&#x27;, &#x27;precision&#x27;, &#x27;accuracy&#x27;, &#x27;f1&#x27;})</pre></div></div></div><div class=\"sk-parallel\"><div class=\"sk-parallel-item\"><div class=\"sk-item\"><div class=\"sk-label-container\"><div class=\"sk-label sk-toggleable\"><input class=\"sk-toggleable__control sk-hidden--visually\" id=\"sk-estimator-id-5\" type=\"checkbox\" ><label for=\"sk-estimator-id-5\" class=\"sk-toggleable__label sk-toggleable__label-arrow\">estimator: RandomForestClassifier</label><div class=\"sk-toggleable__content\"><pre>RandomForestClassifier(random_state=42)</pre></div></div></div><div class=\"sk-serial\"><div class=\"sk-item\"><div class=\"sk-estimator sk-toggleable\"><input class=\"sk-toggleable__control sk-hidden--visually\" id=\"sk-estimator-id-6\" type=\"checkbox\" ><label for=\"sk-estimator-id-6\" class=\"sk-toggleable__label sk-toggleable__label-arrow\">RandomForestClassifier</label><div class=\"sk-toggleable__content\"><pre>RandomForestClassifier(random_state=42)</pre></div></div></div></div></div></div></div></div></div></div>"
      ],
      "text/plain": [
       "GridSearchCV(cv=5, estimator=RandomForestClassifier(random_state=42),\n",
       "             param_grid={'max_depth': [5, 7, None], 'max_features': [0.3, 0.6],\n",
       "                         'max_samples': [0.7], 'min_samples_leaf': [1, 2],\n",
       "                         'min_samples_split': [2, 3],\n",
       "                         'n_estimators': [75, 100, 200]},\n",
       "             refit='recall', scoring={'recall', 'precision', 'accuracy', 'f1'})"
      ]
     },
     "execution_count": 39,
     "metadata": {},
     "output_type": "execute_result"
    }
   ],
   "source": [
    "%%time\n",
    "rf_cv.fit(X_train_c, y_train_c)"
   ]
  },
  {
   "cell_type": "code",
   "execution_count": 40,
   "id": "c7c637bb",
   "metadata": {},
   "outputs": [
    {
     "data": {
      "text/plain": [
       "0.9908854166666666"
      ]
     },
     "execution_count": 40,
     "metadata": {},
     "output_type": "execute_result"
    }
   ],
   "source": [
    "rf_cv.best_score_"
   ]
  },
  {
   "cell_type": "code",
   "execution_count": 48,
   "id": "4f2dba7d",
   "metadata": {},
   "outputs": [
    {
     "data": {
      "text/plain": [
       "{'max_depth': 7,\n",
       " 'max_features': 0.6,\n",
       " 'max_samples': 0.7,\n",
       " 'min_samples_leaf': 1,\n",
       " 'min_samples_split': 2,\n",
       " 'n_estimators': 75}"
      ]
     },
     "execution_count": 48,
     "metadata": {},
     "output_type": "execute_result"
    }
   ],
   "source": [
    "# Examinar los mejores parámeteros\n",
    "rf_cv.best_params_"
   ]
  },
  {
   "cell_type": "markdown",
   "id": "e3e99d98",
   "metadata": {},
   "source": [
    "##  EVALUAR EL MODELO"
   ]
  },
  {
   "cell_type": "markdown",
   "id": "9443ebca",
   "metadata": {},
   "source": [
    "La matriz de confusión ayuda a visualizar el desempeño del algoritmo."
   ]
  },
  {
   "cell_type": "markdown",
   "id": "fd07d6cb",
   "metadata": {},
   "source": [
    "### Evaluación del modelo predictivo utilizando Random Forest (RF) modificando hiperparámetros"
   ]
  },
  {
   "cell_type": "markdown",
   "id": "ecff749c",
   "metadata": {},
   "source": [
    "**Métricas** \n",
    "\n",
    "Matriz de confusión:\n",
    "\n",
    "True Negative (TN)  |  False positive (FP)   \n",
    "= = = = = = = = = = = = = = = = = = = = =       \n",
    "False negative (FN) | True positive (TP) "
   ]
  },
  {
   "cell_type": "code",
   "execution_count": 49,
   "id": "3c0ed1a1",
   "metadata": {},
   "outputs": [],
   "source": [
    "y_pred = rf_cv.best_estimator_.predict(X_test_c)"
   ]
  },
  {
   "cell_type": "markdown",
   "id": "14577c33",
   "metadata": {},
   "source": [
    "Realizamos una matriz de confusion para visualizar los resultados del modelo de clasificación."
   ]
  },
  {
   "cell_type": "code",
   "execution_count": 50,
   "id": "a31ef236",
   "metadata": {},
   "outputs": [],
   "source": [
    "from sklearn.metrics import confusion_matrix, ConfusionMatrixDisplay"
   ]
  },
  {
   "cell_type": "code",
   "execution_count": 53,
   "id": "eac4a5e5",
   "metadata": {},
   "outputs": [
    {
     "data": {
      "text/plain": [
       "<sklearn.metrics._plot.confusion_matrix.ConfusionMatrixDisplay at 0x2bae48c72d0>"
      ]
     },
     "execution_count": 53,
     "metadata": {},
     "output_type": "execute_result"
    },
    {
     "data": {
      "image/png": "[encoded data removed]",
      "text/plain": [
       "<Figure size 640x480 with 2 Axes>"
      ]
     },
     "metadata": {},
     "output_type": "display_data"
    }
   ],
   "source": [
    "log_cm = confusion_matrix(y_test_c, y_pred)\n",
    "log_disp = ConfusionMatrixDisplay(confusion_matrix = log_cm, display_labels = None)\n",
    "log_disp.plot()"
   ]
  },
  {
   "cell_type": "markdown",
   "id": "00fd5977",
   "metadata": {},
   "source": [
    "<div class=\"alert alert-block alert-success\">\n",
    "Se predijeron las clases reclamo =1 y la clase opinión= 0.\n",
    "    \n",
    "El modelo realizó 3.817 predicciones, de las cuales 1.910 casos fueron clasificados como reclamo y 1.907 casos como opinión. \n",
    "Si lo constrastamos con los valores reales, la muestra presenta 1.899 clasificados como reclamos y 1.928 casos clasificados como opinión.   \n",
    "    \n",
    "</div>"
   ]
  },
  {
   "cell_type": "markdown",
   "id": "889b6186",
   "metadata": {},
   "source": [
    "<div class=\"alert alert-block alert-success\">\n",
    "<b>Este modelo funciona muy bien, con un puntaje de precisión promedio de 0,991. Después de verificar el puntaje de precisión para asegurarse de que el modelo no esté clasificando todas las muestras como reclamos, está claro que el resultado es el correcto.\n",
    "    \n",
    "El modelo es muy bueno para identificar reclamos, incluso cuando hay muchas otras clases de datos presentes. Esto podria ser muy útil para aplicaciones en las que es importante identificarlos de manera rápida y precisa, como en el monitoreo de redes sociales o la detección de noticias falsas.</div>\n",
    "\n"
   ]
  }
 ],
 "metadata": {
  "colab": {
   "provenance": []
  },
  "kernelspec": {
   "display_name": "Python 3 (ipykernel)",
   "language": "python",
   "name": "python3"
  },
  "language_info": {
   "codemirror_mode": {
    "name": "ipython",
    "version": 3
   },
   "file_extension": ".py",
   "mimetype": "text/x-python",
   "name": "python",
   "nbconvert_exporter": "python",
   "pygments_lexer": "ipython3",
   "version": "3.11.3"
  }
 },
 "nbformat": 4,
 "nbformat_minor": 5
}
